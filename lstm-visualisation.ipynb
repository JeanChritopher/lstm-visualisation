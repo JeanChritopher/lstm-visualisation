{
 "cells": [
  {
   "cell_type": "markdown",
   "metadata": {},
   "source": [
    "# Visualising LSTM Networks Part 1"
   ]
  },
  {
   "cell_type": "code",
   "execution_count": null,
   "metadata": {},
   "outputs": [],
   "source": [
    "%matplotlib inline\n",
    "from misc.misc import *\n",
    "from IPython.core.display import display, HTML\n",
    "display(HTML(\"<style>.container { width:90% !important; }</style>\"))"
   ]
  },
  {
   "cell_type": "code",
   "execution_count": null,
   "metadata": {},
   "outputs": [],
   "source": [
    "seed = 8\n",
    "data_dir = './data'\n",
    "model_weights_filename = './model_weights_final.hdf5'\n",
    "autoenc2D_weights_file = './auto2D_model_weights.hdf5'\n",
    "autoenc3D_weights_file = './auto3D_model_weights.hdf5'\n",
    "train_size = 94*3*7\n",
    "batch_size = 64\n",
    "n_lstm = 100\n",
    "epochs = 1000\n",
    "noise = 0.1"
   ]
  },
  {
   "cell_type": "markdown",
   "metadata": {},
   "source": [
    "# Abstract"
   ]
  },
  {
   "cell_type": "markdown",
   "metadata": {},
   "source": [
    "# Auslan sign classifier"
   ]
  },
  {
   "cell_type": "code",
   "execution_count": null,
   "metadata": {
    "scrolled": false
   },
   "outputs": [],
   "source": [
    "from keras.utils import plot_model\n",
    "import matplotlib.image as mpimg\n",
    "\n",
    "X_train, X_validation, X_test, Y_train, Y_validation, Y_test, le = load_prepare_data(data_dir, train_size, seed)\n",
    "model, lstm_activations = prepare_model(100, 'accuracy', X_train, Y_train, (0.0, 0.0), (0.0, 0.0))\n",
    "plot_model(model, to_file='model.png', show_shapes=True, show_layer_names=False, rankdir='TB')\n",
    "img = mpimg.imread('model.png')\n",
    "plt.figure(dpi=144)\n",
    "plt.imshow(img)\n",
    "plt.axis('off');"
   ]
  },
  {
   "cell_type": "code",
   "execution_count": null,
   "metadata": {},
   "outputs": [],
   "source": [
    "# model, history = fit_model(model, model_weights_filename, X_train, Y_train, X_validation, \n",
    "#                            Y_validation, seed, epochs=1000, patience=150, batch_size=64, verbosity=1)\n",
    "model = load_model(model, model_weights_filename)\n",
    "scores = model.evaluate(X_test, Y_test, verbose=0)\n",
    "print(\"Accuracy: %.2f%%\" % (scores[1] * 100))"
   ]
  },
  {
   "cell_type": "markdown",
   "metadata": {},
   "source": [
    "# First attempt to understand the internals of LSTM network"
   ]
  },
  {
   "cell_type": "markdown",
   "metadata": {},
   "source": [
    "# Denoising Autoencoders"
   ]
  },
  {
   "cell_type": "code",
   "execution_count": null,
   "metadata": {
    "scrolled": false
   },
   "outputs": [],
   "source": [
    "from keras import backend as K\n",
    "from keras.utils.generic_utils import get_custom_objects\n",
    "\n",
    "# def custom_activation(x):\n",
    "#     return (K.tanh(x) * 20)\n",
    "\n",
    "def custom_activation(x):\n",
    "    return x\n",
    "\n",
    "act = lstm_activations.predict(X_train)\n",
    "labels = le.inverse_transform(np.argmax(Y_train, axis=1))\n",
    "X_autoencoder, Y_autoencoder = prepare_autoencoder_input(act, noise, seed, min_=10, max_=65)\n",
    "\n",
    "decoded2D, encoded2D = prepare_autoencoder(n_lstm, 2, dense_1=600, dense_2=150, activation=custom_activation)\n",
    "# decoded2D, _ = fit_autoencoder(decoded2D, X_autoencoder, Y_autoencoder, autoenc2D_weights_file, seed, patience=5, verbosity=0)\n",
    "decoded2D = load_model(decoded2D, autoenc2D_weights_file)\n",
    "decoded3D, encoded3D = prepare_autoencoder(n_lstm, 3, dense_1=600, dense_2=150, activation=custom_activation)\n",
    "# decoded3D, _ = fit_autoencoder(decoded3D, X_autoencoder, Y_autoencoder, autoenc3D_weights_file, seed, patience=5, verbosity=1)\n",
    "decoded3D = load_model(decoded3D, autoenc3D_weights_file)\n",
    "\n",
    "plot_model(decoded2D, to_file='2Dautoencoder.png', show_shapes=True, show_layer_names=False, rankdir='TB')\n",
    "img = mpimg.imread('2Dautoencoder.png')\n",
    "plt.figure(dpi=2*144)\n",
    "plt.imshow(img)\n",
    "plt.axis('off');"
   ]
  },
  {
   "cell_type": "markdown",
   "metadata": {},
   "source": [
    "# Visualization"
   ]
  },
  {
   "cell_type": "code",
   "execution_count": null,
   "metadata": {
    "scrolled": false
   },
   "outputs": [],
   "source": [
    "act = lstm_activations.predict(X_train)\n",
    "labels = le.inverse_transform(np.argmax(Y_train, axis=1))\n",
    "set_labels = sorted(set(labels))\n",
    "plot_2D(set_labels, encoded2D, act, labels, 'LSTM Activations', 'lstm2d.png', -3, 3.2, -2.6, 3.3, \n",
    "    figsize=(13,10), frac_labels=0.0, linewidth=1, pointsize=5, fontsize=12, linealpha=0.05, max_steps=90, show=True, log=True)"
   ]
  },
  {
   "cell_type": "code",
   "execution_count": null,
   "metadata": {
    "scrolled": false
   },
   "outputs": [],
   "source": [
    "act = lstm_activations.predict(X_train)\n",
    "labels = le.inverse_transform(np.argmax(Y_train, axis=1))\n",
    "set_labels = sorted(set(labels))\n",
    "plot_2D(set_labels, encoded2D, act, labels, 'Last activations from LSTM layer', 'lstm2d_last_activation.png', -3, 3.2, -2.6, 3.3, \n",
    "        figsize=(10.3,10.3), frac_labels=0.00, linewidth=1, pointsize=5, fontsize=12, linealpha=0.05, min_steps=89, max_steps=90, show=True, log=True,\n",
    "        colormap=cm.coolwarm, scatter=True, colorbar_show=False)"
   ]
  },
  {
   "cell_type": "code",
   "execution_count": null,
   "metadata": {},
   "outputs": [],
   "source": [
    "plot_2D(set_labels, encoded2D, act, labels, 'LSTM Activations', 'lstm2d_BIG.png', -3, 3.2, -2.6, 3.3, \n",
    "        figsize=(50,40), frac_labels=0.2, linewidth=1, pointsize=5, fontsize=10, linealpha=0.05, \n",
    "        max_steps=90, show=True, log=True)"
   ]
  },
  {
   "cell_type": "code",
   "execution_count": null,
   "metadata": {},
   "outputs": [],
   "source": [
    "plot_3D(set_labels, encoded3D, act, labels, 'LSTM Activations 3D', 'lstm3d.png', x_l=-2.5,\n",
    "            x_h=2.5, y_l=-2.5, y_h=2.5, figsize=(13, 13), pointsize=5, max_steps=90,\n",
    "            show=True, log=True)"
   ]
  },
  {
   "cell_type": "markdown",
   "metadata": {},
   "source": [
    "# Analysis"
   ]
  },
  {
   "cell_type": "code",
   "execution_count": null,
   "metadata": {},
   "outputs": [],
   "source": [
    "diff = X_train[:,:-1,:] - X_train[:,1:,:]\n",
    "# plt.plot(np.abs(diff).mean(axis=2).mean(axis=0));\n",
    "plt.show()\n",
    "side = []\n",
    "for i in range(diff.shape[0]):\n",
    "    lh = np.abs(diff[i,:,:11])\n",
    "    rh = np.abs(diff[i,:,11:])\n",
    "    lh = np.sort(lh.flatten())[:950]\n",
    "    rh = np.sort(rh.flatten())[:950]\n",
    "    side.append(lh.mean() / rh.mean())\n",
    "plt.hist(side, bins=300);"
   ]
  },
  {
   "cell_type": "code",
   "execution_count": null,
   "metadata": {},
   "outputs": [],
   "source": [
    "set_labels = sorted(set(labels))\n",
    "# set_labels = ['drink', 'danger'] # should be dangerous instead of danger\n",
    "one_hand = np.array(side) < 0.25\n",
    "plot_2D(set_labels, encoded2D, act, labels, 'Activation paths categorized by hand usage', 'lstm2d_hands.png', -3, 3.2, -2.6, 3.3, \n",
    "        figsize=(10.3,10.3), frac_labels=0.0, linewidth=2, pointsize=3, fontsize=12, linealpha=0.05, \n",
    "        max_steps=90, show=True, log=True, hand=one_hand, colormap=cm.Greys, scatter=False, colorbar_show=False)"
   ]
  },
  {
   "cell_type": "code",
   "execution_count": null,
   "metadata": {},
   "outputs": [],
   "source": [
    "set_labels = ['drink', 'danger'] # dangerous tak naprawdę zamiast danger\n",
    "plot_2D(set_labels, encoded2D, act, labels, 'LSTM activations for drink and danger', 'lstm2d_drink_danger.png', -3, 3.2, -2.6, 3.3, \n",
    "    figsize=(13,10), frac_labels=0.4, linewidth=1, pointsize=5, fontsize=12, linealpha=0.05, max_steps=90, show=True, log=True)"
   ]
  },
  {
   "cell_type": "code",
   "execution_count": null,
   "metadata": {},
   "outputs": [],
   "source": [
    "set_labels = ['who', 'soon']\n",
    "plot_2D(set_labels, encoded2D, act, labels, 'LSTM activations for who and soon', 'lstm2d_who_soon.png', -3, 3.2, -2.6, 3.3, \n",
    "    figsize=(13,10), frac_labels=0.1, linewidth=1, pointsize=5, fontsize=12, linealpha=0.05, max_steps=90, show=True, log=True)"
   ]
  },
  {
   "cell_type": "code",
   "execution_count": null,
   "metadata": {},
   "outputs": [],
   "source": [
    "set_labels = ['crazy', 'think']\n",
    "plot_2D(set_labels, encoded2D, act, labels, 'LSTM activations for think and crazy', 'lstm2d_think_crazy.png', -3, 3.2, -2.6, 3.3, \n",
    "    figsize=(13,10), frac_labels=0.1, linewidth=1, pointsize=5, fontsize=12, linealpha=0.05, max_steps=90, show=True, log=True)"
   ]
  },
  {
   "cell_type": "code",
   "execution_count": null,
   "metadata": {},
   "outputs": [],
   "source": [
    "set_labels = ['sorry', 'crazy', 'you', 'think']\n",
    "plot_2D(set_labels, encoded2D, act, labels, 'LSTM activations for think, crazy, sorry and you', 'lstm2d_you.png', -3, 3.2, -2.6, 3.3, \n",
    "    figsize=(13,10), frac_labels=0.2, linewidth=1, pointsize=5, fontsize=12, linealpha=0.05, max_steps=90, show=True, log=True)"
   ]
  },
  {
   "cell_type": "markdown",
   "metadata": {},
   "source": [
    "# Mislabeled examples"
   ]
  },
  {
   "cell_type": "code",
   "execution_count": null,
   "metadata": {},
   "outputs": [],
   "source": [
    "X = X_train\n",
    "Y = Y_train\n",
    "# X = X_validation\n",
    "# Y = Y_validation\n",
    "# X = X_test\n",
    "# Y = Y_test\n",
    "\n",
    "pred = le.inverse_transform(model.predict(X).argmax(axis=1))\n",
    "true = le.inverse_transform(Y.argmax(axis=1))\n",
    "mislabel = pred != true\n",
    "pairs = np.array(list(zip(pred, true)))\n",
    "set_labels = sorted(set(pairs[mislabel].flatten()))\n",
    "act = lstm_activations.predict(X)\n",
    "labels = le.inverse_transform(np.argmax(Y, axis=1))\n",
    "\n",
    "# print(pairs[mislabel])\n",
    "\n",
    "plot_2D_mislabeled(set_labels, encoded2D, act, labels, 'Training data mislabeled examples', 'lstm2d-mislabel_train.png', mislabel, pairs,-2, 2, -0.2, 2.3, \n",
    "                       figsize=(13,10), frac_labels=0.0, linewidth=1, pointsize=5, fontsize=12, linealpha=0.05, max_steps=90, show=True, log=True)"
   ]
  },
  {
   "cell_type": "code",
   "execution_count": null,
   "metadata": {},
   "outputs": [],
   "source": [
    "# X = X_train\n",
    "# Y = Y_train\n",
    "X = X_validation\n",
    "Y = Y_validation\n",
    "# X = X_test\n",
    "# Y = Y_test\n",
    "\n",
    "pred = le.inverse_transform(model.predict(X).argmax(axis=1))\n",
    "true = le.inverse_transform(Y.argmax(axis=1))\n",
    "mislabel = pred != true\n",
    "pairs = np.array(list(zip(pred, true)))\n",
    "set_labels = sorted(set(pairs[mislabel].flatten()))\n",
    "act = lstm_activations.predict(X)\n",
    "labels = le.inverse_transform(np.argmax(Y, axis=1))\n",
    "\n",
    "# print(pairs[mislabel])\n",
    "\n",
    "plot_2D_mislabeled(set_labels, encoded2D, act, labels, 'Validation data mislabeled examples', 'lstm2d-mislabel_valid.png', mislabel, pairs,-3, 3.5, -2.3, 2.5, \n",
    "                       figsize=(13,10), frac_labels=0.0, linewidth=1, pointsize=5, fontsize=12, linealpha=0.05, max_steps=90, show=True, log=True)"
   ]
  },
  {
   "cell_type": "code",
   "execution_count": null,
   "metadata": {},
   "outputs": [],
   "source": [
    "# X = X_train\n",
    "# Y = Y_train\n",
    "# X = X_validation\n",
    "# Y = Y_validation\n",
    "X = X_test\n",
    "Y = Y_test\n",
    "\n",
    "pred = le.inverse_transform(model.predict(X).argmax(axis=1))\n",
    "true = le.inverse_transform(Y.argmax(axis=1))\n",
    "mislabel = pred != true\n",
    "pairs = np.array(list(zip(pred, true)))\n",
    "set_labels = sorted(set(pairs[mislabel].flatten()))\n",
    "act = lstm_activations.predict(X)\n",
    "labels = le.inverse_transform(np.argmax(Y, axis=1))\n",
    "\n",
    "# print(pairs[mislabel])\n",
    "\n",
    "plot_2D_mislabeled(set_labels, encoded2D, act, labels, 'Test data mislabeled examples', 'lstm2d-mislabel_test.png', mislabel, pairs,-2.4, 3.2, -2.2, 3.1, \n",
    "                       figsize=(13,10), frac_labels=0.0, linewidth=1, pointsize=5, fontsize=12, linealpha=0.05, max_steps=90, show=True, log=True)"
   ]
  },
  {
   "cell_type": "markdown",
   "metadata": {},
   "source": [
    "# Prediction visualisation"
   ]
  },
  {
   "cell_type": "code",
   "execution_count": null,
   "metadata": {
    "scrolled": true
   },
   "outputs": [],
   "source": [
    "act = lstm_activations.predict(X_train)\n",
    "labels = le.inverse_transform(np.argmax(Y_train, axis=1))\n",
    "set_labels = sorted(set(labels))\n",
    "\n",
    "# Uncomment VVV to generate frames for video\n",
    "\n",
    "# for i in range(150):\n",
    "#     plot_2D(set_labels, encoded2D, act, labels, 'LSTM Activations', 'lstm2d-{:03d}.png'.format(i), -3, 3.2, -2.6, 3.3, \n",
    "#             figsize=(18,15), frac_labels=0.0, linewidth=1, pointsize=5, fontsize=12, linealpha=0.03, max_steps=i, show=False, log=True)"
   ]
  },
  {
   "cell_type": "markdown",
   "metadata": {},
   "source": [
    "# Conclusions"
   ]
  },
  {
   "cell_type": "markdown",
   "metadata": {},
   "source": [
    "# References"
   ]
  }
 ],
 "metadata": {
  "kernelspec": {
   "display_name": "Python 3",
   "language": "python",
   "name": "python3"
  },
  "language_info": {
   "codemirror_mode": {
    "name": "ipython",
    "version": 3
   },
   "file_extension": ".py",
   "mimetype": "text/x-python",
   "name": "python",
   "nbconvert_exporter": "python",
   "pygments_lexer": "ipython3",
   "version": "3.5.2"
  }
 },
 "nbformat": 4,
 "nbformat_minor": 1
}
